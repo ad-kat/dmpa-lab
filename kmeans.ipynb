{
 "cells": [
  {
   "cell_type": "code",
   "execution_count": null,
   "metadata": {},
   "outputs": [],
   "source": [
    "import pandas as pd\n",
    "import numpy as np\n",
    "import matplotlib.pyplot as plt\n",
    "import math\n",
    "data = [\n",
    "    [1, 1],    [1, 2],    [1, 3],    [1, 4],    [1, 5],    [1, 6],    [1, 7],    [1, 8],    [1, 9],\n",
    "    [5, 1],    [5, 2],    [5, 3],    [5, 4],    [5, 5],    [5, 6],    [5, 7],    [5, 8],    [5, 9],\n",
    "    [9, 1],    [9, 2],    [9, 3],    [9, 4],    [9, 5],    [9, 6],    [9, 7],    [9, 8],    [9, 9]\n",
    "]"
   ]
  },
  {
   "cell_type": "code",
   "execution_count": null,
   "metadata": {},
   "outputs": [],
   "source": [
    "x = [i[0] for i in data]\n",
    "y = [i[1] for i in data]"
   ]
  },
  {
   "cell_type": "code",
   "execution_count": null,
   "metadata": {},
   "outputs": [],
   "source": [
    "#k=int(input(\"k=\"))\n",
    "k=3\n",
    "centers = [data[0], data[1], data[2]]\n",
    "#for i in range(k):\n",
    "#    f=f\"center {i+1}-->\"\n",
    " #   points=input(f)\n",
    "  #  points=points.split()\n",
    " #   points=[int(i) for i in points]    \n",
    "  #  centers.append(points)\n",
    "\n",
    "\n",
    "print(\"Initial centers: \")\n",
    "print(centers)"
   ]
  },
  {
   "cell_type": "code",
   "execution_count": null,
   "metadata": {},
   "outputs": [],
   "source": [
    "def dist(center, point):\n",
    "    d = 0.0\n",
    "    x1=center[0]\n",
    "    x2=point[0]\n",
    "    y1=center[1]\n",
    "    y2=point[1]\n",
    "    d=math.sqrt((x1-x2)**2+(y1-y2)**2)        \n",
    "    return math.sqrt(d)"
   ]
  },
  {
   "cell_type": "code",
   "execution_count": null,
   "metadata": {},
   "outputs": [],
   "source": [
    "def form_matrix(centers,dataset):\n",
    "    arr={}        \n",
    "    k=0    \n",
    "    for point in dataset:\n",
    "        k+=1\n",
    "        l=[]\n",
    "        l.append(point)\n",
    "        m=999.0\n",
    "        select=[]\n",
    "        for center in centers:\n",
    "            d=dist(center,point)\n",
    "            l.append(d)\n",
    "            if d<m:\n",
    "                m=d\n",
    "                select=center\n",
    "        l.append(select) \n",
    "        arr[k]=l\n",
    "    return arr\n",
    "        \n",
    "arr=form_matrix(centers,data)\n",
    "for key,value in arr.items():\n",
    "        print(arr[key])\n"
   ]
  },
  {
   "cell_type": "code",
   "execution_count": null,
   "metadata": {},
   "outputs": [],
   "source": [
    "def new_centers(centers,arr):\n",
    "    news=[]\n",
    "    for center in centers:\n",
    "        xtot=0\n",
    "        ytot=0\n",
    "        tot=0\n",
    "        for key,value in arr.items():\n",
    "            end=len(arr[key])\n",
    "            if value[end-1] ==center:\n",
    "                point=value[0]\n",
    "                xtot+=point[0]\n",
    "                ytot+=point[1]\n",
    "                tot+=1\n",
    "        avg=[int(xtot/tot),int(ytot/tot)]\n",
    "        \n",
    "        news.append(avg)\n",
    "    return news\n",
    "\n",
    "\n",
    "\n",
    "centers=new_centers(centers,arr)\n",
    "print(centers)"
   ]
  },
  {
   "cell_type": "code",
   "execution_count": null,
   "metadata": {},
   "outputs": [],
   "source": [
    "while old != centers:\n",
    "    old=centers\n",
    "    print(old)\n",
    "    arr=form_matrix(centers,data)\n",
    "    centers=new_centers(centers,arr)\n",
    "    print(centers)\n",
    "\n"
   ]
  },
  {
   "cell_type": "code",
   "execution_count": null,
   "metadata": {},
   "outputs": [],
   "source": [
    "def cluster_now(centers,arr):    \n",
    "    for center in centers:\n",
    "        clus=[]\n",
    "        for key,value in arr.items():\n",
    "            end=len(arr[key])\n",
    "            if value[end-1] ==center:\n",
    "                clus.append(value[0])\n",
    "        print(f\"centroid={center}:{clus}\")\n",
    "cluster_now(centers,arr) "
   ]
  }
 ],
 "metadata": {
  "language_info": {
   "name": "python"
  }
 },
 "nbformat": 4,
 "nbformat_minor": 2
}
